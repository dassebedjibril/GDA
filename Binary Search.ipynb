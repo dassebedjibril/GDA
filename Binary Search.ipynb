{
 "cells": [
  {
   "cell_type": "code",
   "execution_count": 32,
   "metadata": {},
   "outputs": [
    {
     "data": {
      "text/plain": [
       "'Found at 8'"
      ]
     },
     "execution_count": 32,
     "metadata": {},
     "output_type": "execute_result"
    }
   ],
   "source": [
    "def search(list,n):\n",
    "    l=0\n",
    "    u=len(list)-1 # 6\n",
    "    \n",
    "    while l<=u:\n",
    "        mid=(l+u)//2 #3 # 4 #5 #5 #5 #5\n",
    "        if list[mid]==n:\n",
    "            return (f'Found at {mid}')\n",
    "        else:\n",
    "            if list[mid]<n:\n",
    "                l = mid+1\n",
    "            else:\n",
    "                u = mid - 1\n",
    "    return 'No found'\n",
    "     \n",
    "list=[1,3,5,6,77,89,90,94,97,100]\n",
    "n=97\n",
    "search(list,n)\n",
    "# if search(list,n):\n",
    "#     print('found at', pos)\n",
    "# else:\n",
    "#     print('not found')"
   ]
  },
  {
   "cell_type": "code",
   "execution_count": null,
   "metadata": {},
   "outputs": [],
   "source": []
  }
 ],
 "metadata": {
  "kernelspec": {
   "display_name": "Python 3",
   "language": "python",
   "name": "python3"
  },
  "language_info": {
   "codemirror_mode": {
    "name": "ipython",
    "version": 3
   },
   "file_extension": ".py",
   "mimetype": "text/x-python",
   "name": "python",
   "nbconvert_exporter": "python",
   "pygments_lexer": "ipython3",
   "version": "3.7.3"
  }
 },
 "nbformat": 4,
 "nbformat_minor": 2
}
